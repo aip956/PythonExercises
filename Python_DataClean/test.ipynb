{
 "cells": [
  {
   "cell_type": "code",
   "execution_count": null,
   "id": "91cea490-b11f-4921-8114-393f2d6092e2",
   "metadata": {},
   "outputs": [],
   "source": []
  },
  {
   "cell_type": "code",
   "execution_count": 63,
   "id": "a7ecd36a-b6fe-4661-bf13-ca6c1f54c8b8",
   "metadata": {},
   "outputs": [],
   "source": [
    "def merge_contents(data):\n",
    "    pages = data[\"query\"][\"pages\"]\n",
    "    content = \"\"\n",
    "    for page in pages:\n",
    "        content += page[\"revisions\"][0][\"content\"]\n",
    "        print(\"Merge hello\")\n",
    "        print(content)\n",
    "    return content"
   ]
  },
  {
   "cell_type": "code",
   "execution_count": 64,
   "id": "4d96e78e-86f4-4145-8c37-10ede963e613",
   "metadata": {},
   "outputs": [],
   "source": [
    "# Mock data simulating the expected input structure"
   ]
  },
  {
   "cell_type": "code",
   "execution_count": 65,
   "id": "6f35f7b6-4259-42e5-8d76-04e300cca26c",
   "metadata": {},
   "outputs": [],
   "source": [
    "\n",
    "mock_data = {\n",
    "    \"query\": {\n",
    "        \"pages\": [\n",
    "            {\"revisions\": [{\"content\": \"First page content. \"}]},\n",
    "            {\"revisions\": [{\"content\": \"Second page content. \"}]},\n",
    "            {\"revisions\": [{\"content\": \"Third page content.\"}]}\n",
    "        ]\n",
    "    }\n",
    "}\n",
    "\n"
   ]
  },
  {
   "cell_type": "code",
   "execution_count": 66,
   "id": "0edf09d7-d4d8-43c8-a4c9-e6cf1ac786c7",
   "metadata": {},
   "outputs": [
    {
     "name": "stdout",
     "output_type": "stream",
     "text": [
      "Merge hello\n",
      "First page content. \n",
      "Merge hello\n",
      "First page content. Second page content. \n",
      "Merge hello\n",
      "First page content. Second page content. Third page content.\n",
      "Final aggregated content:\n",
      "First page content. Second page content. Third page content.\n"
     ]
    }
   ],
   "source": [
    "# Call the function with the mock data\n",
    "test_result = merge_contents(mock_data)\n",
    "\n",
    "# Optionally, print the result if you want to see the final aggregated content\n",
    "print(\"Final aggregated content:\")\n",
    "print(test_result)"
   ]
  },
  {
   "cell_type": "code",
   "execution_count": 67,
   "id": "3e992440-e587-4175-8d4e-f9db36f8fd0b",
   "metadata": {},
   "outputs": [
    {
     "name": "stdout",
     "output_type": "stream",
     "text": [
      "['First', 'page', 'content.', 'Second', 'page', 'content.', 'Third', 'page', 'content.']\n",
      "should have tokenize\n"
     ]
    }
   ],
   "source": [
    "import re\n",
    "def tokenize(test_result):\n",
    "    splitters = [\" \", \"\\n\"]\n",
    "    regex_pattern = \"|\".join(map(re.escape, splitters))\n",
    "    tokens = re.split(regex_pattern, test_result)\n",
    "    return tokens\n",
    "\n",
    "\n",
    "print(tokenize(test_result))\n",
    "print(\"should have tokenize\")"
   ]
  }
 ],
 "metadata": {
  "kernelspec": {
   "display_name": "Python 3 (ipykernel)",
   "language": "python",
   "name": "python3"
  },
  "language_info": {
   "codemirror_mode": {
    "name": "ipython",
    "version": 3
   },
   "file_extension": ".py",
   "mimetype": "text/x-python",
   "name": "python",
   "nbconvert_exporter": "python",
   "pygments_lexer": "ipython3",
   "version": "3.12.3"
  }
 },
 "nbformat": 4,
 "nbformat_minor": 5
}
