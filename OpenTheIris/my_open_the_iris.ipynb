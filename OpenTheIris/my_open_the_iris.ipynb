{
 "cells": [
  {
   "cell_type": "code",
   "execution_count": null,
   "metadata": {},
   "outputs": [],
   "source": [
    "import pandas as pd\n",
    "def load_dataset():\n",
    "    url = 'https://raw.githubusercontent.com/jbrownlee/Datasets/master/iris.csv'\n",
    "    dataset = pd.read_csv(url, header=None)\n",
    "    dataset.columns = ['sepal-length', 'sepal-width', 'petal-length', 'petal-width', 'class']\n",
    "    return dataset\n",
    "\n"
   ]
  }
 ],
 "metadata": {
  "language_info": {
   "name": "python"
  }
 },
 "nbformat": 4,
 "nbformat_minor": 2
}
