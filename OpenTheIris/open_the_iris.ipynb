{
 "cells": [
  {
   "cell_type": "code",
   "execution_count": null,
   "id": "68e62123-13f9-427e-a588-a4003b2a8a12",
   "metadata": {},
   "outputs": [],
   "source": [
    "import pandas as pd"
   ]
  },
  {
   "cell_type": "code",
   "execution_count": null,
   "id": "a445c63e-65b9-40ad-8636-ee1ae0fb44a4",
   "metadata": {},
   "outputs": [],
   "source": [
    "def load_dataset():\n",
    "    url = 'https://raw.githubusercontent.com/justmarkham/DAT8/master/data/chipotle.tsv'\n",
    "    dataset = pd.read_csv(url, header=None)\n",
    "    dataset.columns = ['sepal-length', 'sepal-width', 'petal-length', 'petal-width', 'class']\n",
    "    return dataset"
   ]
  },
  {
   "cell_type": "code",
   "execution_count": null,
   "id": "6aab2bd3-7db9-4e53-a0a6-6e6b8472f4d9",
   "metadata": {},
   "outputs": [],
   "source": [
    "def summarize_dataset(dataset):\n",
    "    # Print dataset dimensions\n",
    "    print(\"Dataset dimension: \")\n",
    "    print(dataset.shape)"
   ]
  },
  {
   "cell_type": "code",
   "execution_count": null,
   "id": "a32b2ef2-3e48-4e67-b44f-e5922f8e9667",
   "metadata": {},
   "outputs": [],
   "source": []
  }
 ],
 "metadata": {
  "kernelspec": {
   "display_name": "Python 3 (ipykernel)",
   "language": "python",
   "name": "python3"
  },
  "language_info": {
   "codemirror_mode": {
    "name": "ipython",
    "version": 3
   },
   "file_extension": ".py",
   "mimetype": "text/x-python",
   "name": "python",
   "nbconvert_exporter": "python",
   "pygments_lexer": "ipython3",
   "version": "3.12.5"
  }
 },
 "nbformat": 4,
 "nbformat_minor": 5
}
